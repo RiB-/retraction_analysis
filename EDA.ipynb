{
 "cells": [
  {
   "cell_type": "code",
   "execution_count": 1,
   "metadata": {
    "collapsed": false
   },
   "outputs": [
    {
     "name": "stderr",
     "output_type": "stream",
     "text": [
      "/usr/local/lib/python2.7/dist-packages/matplotlib/font_manager.py:273: UserWarning: Matplotlib is building the font cache using fc-list. This may take a moment.\n",
      "  warnings.warn('Matplotlib is building the font cache using fc-list. This may take a moment.')\n"
     ]
    }
   ],
   "source": [
    "import os\n",
    "import sys\n",
    "import ast\n",
    "import numpy as np\n",
    "import pandas as pd\n",
    "import matplotlib.pyplot as plt\n",
    "import seaborn as sns\n",
    "import bibtexparser\n",
    "from bibtexparser.bparser import BibTexParser\n",
    "from bibtexparser.customization import *"
   ]
  },
  {
   "cell_type": "code",
   "execution_count": 2,
   "metadata": {
    "collapsed": true
   },
   "outputs": [],
   "source": [
    "%matplotlib inline"
   ]
  },
  {
   "cell_type": "code",
   "execution_count": 3,
   "metadata": {
    "collapsed": false
   },
   "outputs": [
    {
     "name": "stderr",
     "output_type": "stream",
     "text": [
      "/usr/local/lib/python2.7/dist-packages/bibtexparser/bparser.py:106: UnicodeWarning: Unicode equal comparison failed to convert both arguments to Unicode - interpreting them as being unequal\n",
      "  if bibtex_str[:3] == byte:\n"
     ]
    }
   ],
   "source": [
    "with open('retraction_records_01.bib') as retr_file:\n",
    "    retr_recs = retr_file.read()\n",
    "#end\n",
    "retraction_db = bibtexparser.loads(retr_recs)"
   ]
  },
  {
   "cell_type": "code",
   "execution_count": 4,
   "metadata": {
    "collapsed": false
   },
   "outputs": [
    {
     "name": "stdout",
     "output_type": "stream",
     "text": [
      "{u'issn': u'1386-1425', u'month': u'JAN 15', u'affiliation': u'Ashokkumar, S (Reprint Author), Annamalai Univ, Dept Phys, Annamalainagar 608002, Tamil Nadu, India.\\nAshokkumar, S.; Kathiravan, V., Annamalai Univ, Dept Phys, Annamalainagar 608002, Tamil Nadu, India.\\nRavi, S.; Velmurugan, S., Annamalai Univ, Dept Engn Phys, Annamalainagar 608002, Tamil Nadu, India.', u'doc-delivery-number': u'DZ1MA', u'year': u'2017', 'ENTRYTYPE': u'article', u'web-of-science-categories': u'Spectroscopy', u'title': u'Synthesis of silver nanoparticles using A. indicum leaf extract and\\ntheir antibacterial activity (Retraction of vol 134C, pg 34, 2014)', u'pages': u'526', u'unique-id': u'ISI:000385601300067', u'number-of-cited-references': u'1', u'journal': u'SPECTROCHIMICA ACTA PART A-MOLECULAR AND BIOMOLECULAR SPECTROSCOPY', u'volume': u'171', u'address': u'THE BOULEVARD, LANGFORD LANE, KIDLINGTON, OXFORD OX5 1GB, ENGLAND', 'ID': 'ISI:000385601300067', u'times-cited': u'0', u'usage-count-since-2013': u'3', u'publisher': u'PERGAMON-ELSEVIER SCIENCE LTD', u'doi': u'10.1016/j.saa.2016.08.060', u'language': u'English', u'journal-iso': u'Spectroc. Acta Pt. A-Molec. Biomolec. Spectr.', u'type': u'Correction', u'author': u'Ashokkumar, S. and Ravi, S. and Kathiravan, V. and Velmurugan, S.', u'research-areas': u'Spectroscopy', u'usage-count-(last-180-days)': u'3'}\n"
     ]
    }
   ],
   "source": [
    "print retraction_db.entries[0]"
   ]
  },
  {
   "cell_type": "code",
   "execution_count": 5,
   "metadata": {
    "collapsed": false
   },
   "outputs": [
    {
     "name": "stdout",
     "output_type": "stream",
     "text": [
      "---------------------------\n",
      "issn:\n",
      "1386-1425\n",
      "---------------------------\n",
      "month:\n",
      "JAN 15\n",
      "---------------------------\n",
      "affiliation:\n",
      "Ashokkumar, S (Reprint Author), Annamalai Univ, Dept Phys, Annamalainagar 608002, Tamil Nadu, India.\n",
      "Ashokkumar, S.; Kathiravan, V., Annamalai Univ, Dept Phys, Annamalainagar 608002, Tamil Nadu, India.\n",
      "Ravi, S.; Velmurugan, S., Annamalai Univ, Dept Engn Phys, Annamalainagar 608002, Tamil Nadu, India.\n",
      "---------------------------\n",
      "doc-delivery-number:\n",
      "DZ1MA\n",
      "---------------------------\n",
      "year:\n",
      "2017\n",
      "---------------------------\n",
      "ENTRYTYPE:\n",
      "article\n",
      "---------------------------\n",
      "web-of-science-categories:\n",
      "Spectroscopy\n",
      "---------------------------\n",
      "title:\n",
      "Synthesis of silver nanoparticles using A. indicum leaf extract and\n",
      "their antibacterial activity (Retraction of vol 134C, pg 34, 2014)\n",
      "---------------------------\n",
      "pages:\n",
      "526\n",
      "---------------------------\n",
      "unique-id:\n",
      "ISI:000385601300067\n",
      "---------------------------\n",
      "number-of-cited-references:\n",
      "1\n",
      "---------------------------\n",
      "journal:\n",
      "SPECTROCHIMICA ACTA PART A-MOLECULAR AND BIOMOLECULAR SPECTROSCOPY\n",
      "---------------------------\n",
      "volume:\n",
      "171\n",
      "---------------------------\n",
      "address:\n",
      "THE BOULEVARD, LANGFORD LANE, KIDLINGTON, OXFORD OX5 1GB, ENGLAND\n",
      "---------------------------\n",
      "ID:\n",
      "ISI:000385601300067\n",
      "---------------------------\n",
      "times-cited:\n",
      "0\n",
      "---------------------------\n",
      "usage-count-since-2013:\n",
      "3\n",
      "---------------------------\n",
      "publisher:\n",
      "PERGAMON-ELSEVIER SCIENCE LTD\n",
      "---------------------------\n",
      "doi:\n",
      "10.1016/j.saa.2016.08.060\n",
      "---------------------------\n",
      "language:\n",
      "English\n",
      "---------------------------\n",
      "journal-iso:\n",
      "Spectroc. Acta Pt. A-Molec. Biomolec. Spectr.\n",
      "---------------------------\n",
      "type:\n",
      "Correction\n",
      "---------------------------\n",
      "author:\n",
      "Ashokkumar, S. and Ravi, S. and Kathiravan, V. and Velmurugan, S.\n",
      "---------------------------\n",
      "research-areas:\n",
      "Spectroscopy\n",
      "---------------------------\n",
      "usage-count-(last-180-days):\n",
      "3\n"
     ]
    }
   ],
   "source": [
    "for key, value in retraction_db.entries[0].items():\n",
    "    print '---------------------------'\n",
    "    print key + ':'\n",
    "    print value\n",
    "#end"
   ]
  },
  {
   "cell_type": "code",
   "execution_count": 6,
   "metadata": {
    "collapsed": true
   },
   "outputs": [],
   "source": [
    "def customizations(record):\n",
    "    \"\"\"Use some functions delivered by the library\n",
    "\n",
    "    :param record: a record\n",
    "    :returns: -- customized record\n",
    "    \"\"\"\n",
    "    record = type(record)\n",
    "    record = author(record)\n",
    "    record = editor(record)\n",
    "    record = journal(record)\n",
    "    record = keyword(record)\n",
    "    record = link(record)\n",
    "    record = page_double_hyphen(record)\n",
    "    record = doi(record)\n",
    "    return record\n",
    "#end"
   ]
  },
  {
   "cell_type": "code",
   "execution_count": 7,
   "metadata": {
    "collapsed": false
   },
   "outputs": [],
   "source": [
    "n_files = 9\n",
    "base_filename = 'retraction_records_'\n",
    "retraction_ls = list()\n",
    "\n",
    "parser = BibTexParser()\n",
    "parser.customization = customizations\n",
    "    \n",
    "for ifile in range(1, n_files+1):\n",
    "    filename = base_filename + str(ifile).zfill(2) + '.bib'\n",
    "    with open(filename) as rec_file:\n",
    "        recs_str = rec_file.read()\n",
    "    #end\n",
    "    retraction_ls.extend(bibtexparser.loads(recs_str, parser=parser).entries)\n",
    "#end                "
   ]
  },
  {
   "cell_type": "code",
   "execution_count": 8,
   "metadata": {
    "collapsed": false
   },
   "outputs": [],
   "source": [
    "full_key_ls = list()\n",
    "\n",
    "for rec in retraction_ls:\n",
    "    full_key_ls.extend(rec.keys())\n",
    "#end\n",
    "\n",
    "full_key_ls = list(set(full_key_ls))"
   ]
  },
  {
   "cell_type": "code",
   "execution_count": 9,
   "metadata": {
    "collapsed": false
   },
   "outputs": [],
   "source": [
    "rec_dc = dict()\n",
    "for key in full_key_ls:\n",
    "    rec_dc[key] = list()\n",
    "#end"
   ]
  },
  {
   "cell_type": "code",
   "execution_count": 10,
   "metadata": {
    "collapsed": false
   },
   "outputs": [],
   "source": [
    "for retraction_dc in retraction_ls:\n",
    "    for key in rec_dc.keys():\n",
    "        if key in retraction_dc.keys():\n",
    "            rec_dc[key].append(retraction_dc[key])\n",
    "        else:\n",
    "            rec_dc[key].extend([None])\n",
    "        #end\n",
    "    #end\n",
    "#end"
   ]
  },
  {
   "cell_type": "code",
   "execution_count": 11,
   "metadata": {
    "collapsed": true
   },
   "outputs": [],
   "source": [
    "retractions_df = pd.DataFrame(data=rec_dc)"
   ]
  },
  {
   "cell_type": "code",
   "execution_count": 12,
   "metadata": {
    "collapsed": false
   },
   "outputs": [
    {
     "data": {
      "text/html": [
       "<div>\n",
       "<table border=\"1\" class=\"dataframe\">\n",
       "  <thead>\n",
       "    <tr style=\"text-align: right;\">\n",
       "      <th></th>\n",
       "      <th>ENTRYTYPE</th>\n",
       "      <th>ID</th>\n",
       "      <th>abstract</th>\n",
       "      <th>address</th>\n",
       "      <th>affiliation</th>\n",
       "      <th>article-number</th>\n",
       "      <th>author</th>\n",
       "      <th>author-email</th>\n",
       "      <th>booktitle</th>\n",
       "      <th>doc-delivery-number</th>\n",
       "      <th>...</th>\n",
       "      <th>series</th>\n",
       "      <th>times-cited</th>\n",
       "      <th>title</th>\n",
       "      <th>type</th>\n",
       "      <th>unique-id</th>\n",
       "      <th>usage-count-(last-180-days)</th>\n",
       "      <th>usage-count-since-2013</th>\n",
       "      <th>volume</th>\n",
       "      <th>web-of-science-categories</th>\n",
       "      <th>year</th>\n",
       "    </tr>\n",
       "  </thead>\n",
       "  <tbody>\n",
       "    <tr>\n",
       "      <th>0</th>\n",
       "      <td>article</td>\n",
       "      <td>ISI:000385601300067</td>\n",
       "      <td>None</td>\n",
       "      <td>THE BOULEVARD, LANGFORD LANE, KIDLINGTON, OXFO...</td>\n",
       "      <td>Ashokkumar, S (Reprint Author), Annamalai Univ...</td>\n",
       "      <td>None</td>\n",
       "      <td>[Ashokkumar, S., Ravi, S., Kathiravan, V., Vel...</td>\n",
       "      <td>None</td>\n",
       "      <td>None</td>\n",
       "      <td>DZ1MA</td>\n",
       "      <td>...</td>\n",
       "      <td>None</td>\n",
       "      <td>0</td>\n",
       "      <td>Synthesis of silver nanoparticles using A. ind...</td>\n",
       "      <td>correction</td>\n",
       "      <td>ISI:000385601300067</td>\n",
       "      <td>3</td>\n",
       "      <td>3</td>\n",
       "      <td>171</td>\n",
       "      <td>Spectroscopy</td>\n",
       "      <td>2017</td>\n",
       "    </tr>\n",
       "    <tr>\n",
       "      <th>1</th>\n",
       "      <td>article</td>\n",
       "      <td>ISI:000385601300068</td>\n",
       "      <td>None</td>\n",
       "      <td>THE BOULEVARD, LANGFORD LANE, KIDLINGTON, OXFO...</td>\n",
       "      <td>Ashokkumar, S (Reprint Author), Annamalai Univ...</td>\n",
       "      <td>None</td>\n",
       "      <td>[Ashokkumar, S., Ravi, S., Kathiravan, V., Vel...</td>\n",
       "      <td>None</td>\n",
       "      <td>None</td>\n",
       "      <td>DZ1MA</td>\n",
       "      <td>...</td>\n",
       "      <td>None</td>\n",
       "      <td>0</td>\n",
       "      <td>Synthesis, characterization and catalytic acti...</td>\n",
       "      <td>correction</td>\n",
       "      <td>ISI:000385601300068</td>\n",
       "      <td>1</td>\n",
       "      <td>1</td>\n",
       "      <td>171</td>\n",
       "      <td>Spectroscopy</td>\n",
       "      <td>2017</td>\n",
       "    </tr>\n",
       "  </tbody>\n",
       "</table>\n",
       "<p>2 rows × 43 columns</p>\n",
       "</div>"
      ],
      "text/plain": [
       "  ENTRYTYPE                   ID abstract  \\\n",
       "0   article  ISI:000385601300067     None   \n",
       "1   article  ISI:000385601300068     None   \n",
       "\n",
       "                                             address  \\\n",
       "0  THE BOULEVARD, LANGFORD LANE, KIDLINGTON, OXFO...   \n",
       "1  THE BOULEVARD, LANGFORD LANE, KIDLINGTON, OXFO...   \n",
       "\n",
       "                                         affiliation article-number  \\\n",
       "0  Ashokkumar, S (Reprint Author), Annamalai Univ...           None   \n",
       "1  Ashokkumar, S (Reprint Author), Annamalai Univ...           None   \n",
       "\n",
       "                                              author author-email booktitle  \\\n",
       "0  [Ashokkumar, S., Ravi, S., Kathiravan, V., Vel...         None      None   \n",
       "1  [Ashokkumar, S., Ravi, S., Kathiravan, V., Vel...         None      None   \n",
       "\n",
       "  doc-delivery-number  ...  series times-cited  \\\n",
       "0               DZ1MA  ...    None           0   \n",
       "1               DZ1MA  ...    None           0   \n",
       "\n",
       "                                               title        type  \\\n",
       "0  Synthesis of silver nanoparticles using A. ind...  correction   \n",
       "1  Synthesis, characterization and catalytic acti...  correction   \n",
       "\n",
       "             unique-id usage-count-(last-180-days) usage-count-since-2013  \\\n",
       "0  ISI:000385601300067                           3                      3   \n",
       "1  ISI:000385601300068                           1                      1   \n",
       "\n",
       "  volume web-of-science-categories  year  \n",
       "0    171              Spectroscopy  2017  \n",
       "1    171              Spectroscopy  2017  \n",
       "\n",
       "[2 rows x 43 columns]"
      ]
     },
     "execution_count": 12,
     "metadata": {},
     "output_type": "execute_result"
    }
   ],
   "source": [
    "retractions_df.head(2)"
   ]
  },
  {
   "cell_type": "code",
   "execution_count": 13,
   "metadata": {
    "collapsed": false
   },
   "outputs": [],
   "source": [
    "retractions_df.drop('unique-id', axis=1, inplace=True)"
   ]
  },
  {
   "cell_type": "code",
   "execution_count": 14,
   "metadata": {
    "collapsed": false
   },
   "outputs": [
    {
     "data": {
      "text/plain": [
       "Index([                  u'ENTRYTYPE',                          u'ID',\n",
       "                          u'abstract',                     u'address',\n",
       "                       u'affiliation',              u'article-number',\n",
       "                            u'author',                u'author-email',\n",
       "                         u'booktitle',         u'doc-delivery-number',\n",
       "                               u'doi',                      u'editor',\n",
       "                             u'eissn',     u'funding-acknowledgement',\n",
       "                      u'funding-text',                        u'isbn',\n",
       "                              u'issn',                     u'journal',\n",
       "                       u'journal-iso',                     u'keyword',\n",
       "                     u'keywords-plus',                    u'language',\n",
       "                              u'link',                       u'month',\n",
       "                              u'note',                      u'number',\n",
       "        u'number-of-cited-references',               u'orcid-numbers',\n",
       "                      u'organization',                       u'pages',\n",
       "                         u'publisher',              u'research-areas',\n",
       "              u'researcherid-numbers',                      u'series',\n",
       "                       u'times-cited',                       u'title',\n",
       "                              u'type', u'usage-count-(last-180-days)',\n",
       "            u'usage-count-since-2013',                      u'volume',\n",
       "         u'web-of-science-categories',                        u'year'],\n",
       "      dtype='object')"
      ]
     },
     "execution_count": 14,
     "metadata": {},
     "output_type": "execute_result"
    }
   ],
   "source": [
    "retractions_df.columns"
   ]
  },
  {
   "cell_type": "code",
   "execution_count": 15,
   "metadata": {
    "collapsed": false
   },
   "outputs": [],
   "source": [
    "class AuthorsExtractor():\n",
    "    '''\n",
    "    '''\n",
    "    \n",
    "    def __init__(self):\n",
    "        pass\n",
    "    #end\n",
    "    \n",
    "    def get_first_author(self, author_ls):\n",
    "        if isinstance(author_ls, list):\n",
    "            return author_ls[0]\n",
    "        else:\n",
    "            return None\n",
    "        #end\n",
    "    #end\n",
    "    \n",
    "    def get_last_author(self, author_ls):\n",
    "        if isinstance(author_ls, list):\n",
    "            if len(author_ls)>1:\n",
    "                return author_ls[-1]\n",
    "            else:\n",
    "                return None\n",
    "            #end\n",
    "        else:\n",
    "            return None\n",
    "        #end\n",
    "    #end\n",
    "    \n",
    "    def get_second_author(self, author_ls):\n",
    "        if isinstance(author_ls, list):\n",
    "            if len(author_ls)>2:\n",
    "                return author_ls[1]\n",
    "            else:\n",
    "                return None\n",
    "            #end\n",
    "        else:\n",
    "            return None\n",
    "        #end\n",
    "    #end\n",
    "\n",
    "    def get_middle_authors(self, author_ls):\n",
    "        if isinstance(author_ls, list):\n",
    "            if len(author_ls)>2:\n",
    "                return author_ls[1:-1]\n",
    "            else:\n",
    "                return None\n",
    "            #end\n",
    "        else:\n",
    "            return None\n",
    "        #end\n",
    "    #end\n",
    "    \n",
    "#end\n",
    "\n",
    "class TitleExtractor():\n",
    "    '''\n",
    "    '''\n",
    "    \n",
    "    def __init__(self):\n",
    "        pass\n",
    "    #end\n",
    "    \n",
    "    def get_title(self, title):\n",
    "        if title[:14]=='Retraction of ':\n",
    "            title = title.replace('Retraction of ', '').replace('\\n', ' ')\n",
    "        elif title[:11]=='Retraction:':\n",
    "            title = title.replace('Retraction: ', '').replace('\\n', ' ')            \n",
    "        else:\n",
    "            title = title.replace('retraction', 'Retraction')\n",
    "            title = title.split('Retraction ')[0].strip('()').replace('\\n', ' ')\n",
    "        return title\n",
    "    #end\n",
    "    \n",
    "    def get_year_published(self, title):\n",
    "        title = title.replace(' Statement of Retraction', '')\n",
    "        try:\n",
    "            year = int(title.replace(' )', ')').strip('()')[-4:])\n",
    "        except:\n",
    "            year = -9999\n",
    "        #end\n",
    "        return year\n",
    "    #end\n",
    "    \n",
    "#end\n",
    "        "
   ]
  },
  {
   "cell_type": "code",
   "execution_count": 16,
   "metadata": {
    "collapsed": true
   },
   "outputs": [],
   "source": [
    "def build_summary_df(df):\n",
    "    '''\n",
    "    '''\n",
    "    to_copy_ls = ['ID', 'author', 'journal-iso', 'title', 'publisher', \\\n",
    "                  'times-cited', 'number-of-cited-references', 'usage-count-since-2013', \\\n",
    "                  'usage-count-(last-180-days)', 'web-of-science-categories']\n",
    "    s_df = df[to_copy_ls].copy(deep=True)\n",
    "    ae = AuthorsExtractor()\n",
    "    s_df['first_author'] = s_df['author'].apply(lambda x: ae.get_first_author(x))\n",
    "    s_df['last_author'] = s_df['author'].apply(lambda x: ae.get_last_author(x))\n",
    "    s_df['second_author'] = s_df['author'].apply(lambda x: ae.get_second_author(x))\n",
    "    s_df['middle_authors'] = s_df['author'].apply(lambda x: ae.get_middle_authors(x))\n",
    "    s_df['month_retracted'] = df['month'].apply(lambda x: str(x)[0:4])\n",
    "    s_df['year_retracted'] = df['year']\n",
    "    s_df['title'] = df['title'].apply(lambda s: TitleExtractor().get_title(s))\n",
    "    s_df['year_published'] = df['title'].apply(lambda s: TitleExtractor().get_year_published(s))\n",
    "    s_df.drop('author', axis=1, inplace=True)\n",
    "    s_df['retraction_count'] = 1\n",
    "    int_ls = ['year_published', 'year_retracted', 'times-cited', 'number-of-cited-references', \\\n",
    "              'usage-count-since-2013', 'usage-count-(last-180-days)', 'retraction_count']\n",
    "    str_ls =  [field for field in s_df.columns if field not in int_ls]\n",
    "    s_df[int_ls] = s_df[int_ls].astype(int)\n",
    "    s_df[str_ls] = s_df[str_ls].astype(str)\n",
    "    return s_df\n",
    "#end"
   ]
  },
  {
   "cell_type": "code",
   "execution_count": 17,
   "metadata": {
    "collapsed": false
   },
   "outputs": [],
   "source": [
    "summary_df = build_summary_df(retractions_df)"
   ]
  },
  {
   "cell_type": "code",
   "execution_count": 18,
   "metadata": {
    "collapsed": false
   },
   "outputs": [
    {
     "data": {
      "text/html": [
       "<div>\n",
       "<table border=\"1\" class=\"dataframe\">\n",
       "  <thead>\n",
       "    <tr style=\"text-align: right;\">\n",
       "      <th></th>\n",
       "      <th>ID</th>\n",
       "      <th>journal-iso</th>\n",
       "      <th>title</th>\n",
       "      <th>publisher</th>\n",
       "      <th>times-cited</th>\n",
       "      <th>number-of-cited-references</th>\n",
       "      <th>usage-count-since-2013</th>\n",
       "      <th>usage-count-(last-180-days)</th>\n",
       "      <th>web-of-science-categories</th>\n",
       "      <th>first_author</th>\n",
       "      <th>last_author</th>\n",
       "      <th>second_author</th>\n",
       "      <th>middle_authors</th>\n",
       "      <th>month_retracted</th>\n",
       "      <th>year_retracted</th>\n",
       "      <th>year_published</th>\n",
       "      <th>retraction_count</th>\n",
       "    </tr>\n",
       "  </thead>\n",
       "  <tbody>\n",
       "    <tr>\n",
       "      <th>0</th>\n",
       "      <td>ISI:000385601300067</td>\n",
       "      <td>Spectroc. Acta Pt. A-Molec. Biomolec. Spectr.</td>\n",
       "      <td>Synthesis of silver nanoparticles using A. ind...</td>\n",
       "      <td>PERGAMON-ELSEVIER SCIENCE LTD</td>\n",
       "      <td>0</td>\n",
       "      <td>1</td>\n",
       "      <td>3</td>\n",
       "      <td>3</td>\n",
       "      <td>Spectroscopy</td>\n",
       "      <td>Ashokkumar, S.</td>\n",
       "      <td>Velmurugan, S.</td>\n",
       "      <td>Ravi, S.</td>\n",
       "      <td>[u'Ravi, S.', u'Kathiravan, V.']</td>\n",
       "      <td>JAN</td>\n",
       "      <td>2017</td>\n",
       "      <td>2014</td>\n",
       "      <td>1</td>\n",
       "    </tr>\n",
       "  </tbody>\n",
       "</table>\n",
       "</div>"
      ],
      "text/plain": [
       "                    ID                                    journal-iso  \\\n",
       "0  ISI:000385601300067  Spectroc. Acta Pt. A-Molec. Biomolec. Spectr.   \n",
       "\n",
       "                                               title  \\\n",
       "0  Synthesis of silver nanoparticles using A. ind...   \n",
       "\n",
       "                       publisher  times-cited  number-of-cited-references  \\\n",
       "0  PERGAMON-ELSEVIER SCIENCE LTD            0                           1   \n",
       "\n",
       "   usage-count-since-2013  usage-count-(last-180-days)  \\\n",
       "0                       3                            3   \n",
       "\n",
       "  web-of-science-categories    first_author     last_author second_author  \\\n",
       "0              Spectroscopy  Ashokkumar, S.  Velmurugan, S.      Ravi, S.   \n",
       "\n",
       "                     middle_authors month_retracted  year_retracted  \\\n",
       "0  [u'Ravi, S.', u'Kathiravan, V.']            JAN             2017   \n",
       "\n",
       "   year_published  retraction_count  \n",
       "0            2014                 1  "
      ]
     },
     "execution_count": 18,
     "metadata": {},
     "output_type": "execute_result"
    }
   ],
   "source": [
    "summary_df.head(1)"
   ]
  },
  {
   "cell_type": "code",
   "execution_count": 19,
   "metadata": {
    "collapsed": false
   },
   "outputs": [
    {
     "data": {
      "text/html": [
       "<div>\n",
       "<table border=\"1\" class=\"dataframe\">\n",
       "  <thead>\n",
       "    <tr style=\"text-align: right;\">\n",
       "      <th></th>\n",
       "      <th>retraction_count</th>\n",
       "      <th>times-cited</th>\n",
       "      <th>usage-count-since-2013</th>\n",
       "    </tr>\n",
       "    <tr>\n",
       "      <th>first_author</th>\n",
       "      <th></th>\n",
       "      <th></th>\n",
       "      <th></th>\n",
       "    </tr>\n",
       "  </thead>\n",
       "  <tbody>\n",
       "    <tr>\n",
       "      <th>{[}Anonymous],</th>\n",
       "      <td>154</td>\n",
       "      <td>0</td>\n",
       "      <td>522</td>\n",
       "    </tr>\n",
       "    <tr>\n",
       "      <th>Fujii, Y.</th>\n",
       "      <td>46</td>\n",
       "      <td>1</td>\n",
       "      <td>251</td>\n",
       "    </tr>\n",
       "    <tr>\n",
       "      <th>Fujii, Yoshitaka</th>\n",
       "      <td>36</td>\n",
       "      <td>0</td>\n",
       "      <td>151</td>\n",
       "    </tr>\n",
       "    <tr>\n",
       "      <th>Schon, JH</th>\n",
       "      <td>32</td>\n",
       "      <td>38</td>\n",
       "      <td>866</td>\n",
       "    </tr>\n",
       "  </tbody>\n",
       "</table>\n",
       "</div>"
      ],
      "text/plain": [
       "                  retraction_count  times-cited  usage-count-since-2013\n",
       "first_author                                                           \n",
       "{[}Anonymous],                 154            0                     522\n",
       "Fujii, Y.                       46            1                     251\n",
       "Fujii, Yoshitaka                36            0                     151\n",
       "Schon, JH                       32           38                     866"
      ]
     },
     "execution_count": 19,
     "metadata": {},
     "output_type": "execute_result"
    }
   ],
   "source": [
    "summary_df.groupby(['first_author']).agg({'times-cited': sum, 'usage-count-since-2013': sum, \n",
    "                                          'retraction_count': 'count'}).sort_values(by='retraction_count', \n",
    "                                                                                    ascending=False).head(4)"
   ]
  },
  {
   "cell_type": "code",
   "execution_count": 20,
   "metadata": {
    "collapsed": false
   },
   "outputs": [
    {
     "data": {
      "text/html": [
       "<div>\n",
       "<table border=\"1\" class=\"dataframe\">\n",
       "  <thead>\n",
       "    <tr style=\"text-align: right;\">\n",
       "      <th></th>\n",
       "      <th>retraction_count</th>\n",
       "      <th>times-cited</th>\n",
       "      <th>usage-count-since-2013</th>\n",
       "    </tr>\n",
       "    <tr>\n",
       "      <th>second_author</th>\n",
       "      <th></th>\n",
       "      <th></th>\n",
       "      <th></th>\n",
       "    </tr>\n",
       "  </thead>\n",
       "  <tbody>\n",
       "    <tr>\n",
       "      <th>None</th>\n",
       "      <td>1504</td>\n",
       "      <td>531</td>\n",
       "      <td>10818</td>\n",
       "    </tr>\n",
       "    <tr>\n",
       "      <th>Kloc, C</th>\n",
       "      <td>19</td>\n",
       "      <td>23</td>\n",
       "      <td>370</td>\n",
       "    </tr>\n",
       "    <tr>\n",
       "      <th>Saitoh, Y.</th>\n",
       "      <td>14</td>\n",
       "      <td>1</td>\n",
       "      <td>78</td>\n",
       "    </tr>\n",
       "    <tr>\n",
       "      <th>Uemura, A.</th>\n",
       "      <td>7</td>\n",
       "      <td>0</td>\n",
       "      <td>36</td>\n",
       "    </tr>\n",
       "  </tbody>\n",
       "</table>\n",
       "</div>"
      ],
      "text/plain": [
       "               retraction_count  times-cited  usage-count-since-2013\n",
       "second_author                                                       \n",
       "None                       1504          531                   10818\n",
       "Kloc, C                      19           23                     370\n",
       "Saitoh, Y.                   14            1                      78\n",
       "Uemura, A.                    7            0                      36"
      ]
     },
     "execution_count": 20,
     "metadata": {},
     "output_type": "execute_result"
    }
   ],
   "source": [
    "summary_df.groupby(['second_author']).agg({'times-cited': sum, 'usage-count-since-2013': sum, \n",
    "                                           'retraction_count': 'count'}).sort_values(by='retraction_count', \n",
    "                                                                                     ascending=False).head(4)"
   ]
  },
  {
   "cell_type": "code",
   "execution_count": 21,
   "metadata": {
    "collapsed": false
   },
   "outputs": [
    {
     "data": {
      "text/html": [
       "<div>\n",
       "<table border=\"1\" class=\"dataframe\">\n",
       "  <thead>\n",
       "    <tr style=\"text-align: right;\">\n",
       "      <th></th>\n",
       "      <th>retraction_count</th>\n",
       "      <th>times-cited</th>\n",
       "      <th>usage-count-since-2013</th>\n",
       "    </tr>\n",
       "    <tr>\n",
       "      <th>last_author</th>\n",
       "      <th></th>\n",
       "      <th></th>\n",
       "      <th></th>\n",
       "    </tr>\n",
       "  </thead>\n",
       "  <tbody>\n",
       "    <tr>\n",
       "      <th>None</th>\n",
       "      <td>871</td>\n",
       "      <td>268</td>\n",
       "      <td>5668</td>\n",
       "    </tr>\n",
       "    <tr>\n",
       "      <th>Toyooka, H.</th>\n",
       "      <td>28</td>\n",
       "      <td>1</td>\n",
       "      <td>144</td>\n",
       "    </tr>\n",
       "    <tr>\n",
       "      <th>Batlogg, B</th>\n",
       "      <td>21</td>\n",
       "      <td>27</td>\n",
       "      <td>443</td>\n",
       "    </tr>\n",
       "    <tr>\n",
       "      <th>Kato, Shigeaki</th>\n",
       "      <td>16</td>\n",
       "      <td>7</td>\n",
       "      <td>114</td>\n",
       "    </tr>\n",
       "  </tbody>\n",
       "</table>\n",
       "</div>"
      ],
      "text/plain": [
       "                retraction_count  times-cited  usage-count-since-2013\n",
       "last_author                                                          \n",
       "None                         871          268                    5668\n",
       "Toyooka, H.                   28            1                     144\n",
       "Batlogg, B                    21           27                     443\n",
       "Kato, Shigeaki                16            7                     114"
      ]
     },
     "execution_count": 21,
     "metadata": {},
     "output_type": "execute_result"
    }
   ],
   "source": [
    "summary_df.groupby(['last_author']).agg({'times-cited': sum, 'usage-count-since-2013': sum, \n",
    "                                         'retraction_count': 'count'}).sort_values(by='retraction_count', \n",
    "                                                                                   ascending=False).head(4)"
   ]
  },
  {
   "cell_type": "code",
   "execution_count": 22,
   "metadata": {
    "collapsed": false
   },
   "outputs": [
    {
     "data": {
      "text/html": [
       "<div>\n",
       "<table border=\"1\" class=\"dataframe\">\n",
       "  <thead>\n",
       "    <tr style=\"text-align: right;\">\n",
       "      <th></th>\n",
       "      <th></th>\n",
       "      <th>retraction_count</th>\n",
       "    </tr>\n",
       "    <tr>\n",
       "      <th>journal-iso</th>\n",
       "      <th>year_published</th>\n",
       "      <th></th>\n",
       "    </tr>\n",
       "  </thead>\n",
       "  <tbody>\n",
       "    <tr>\n",
       "      <th rowspan=\"4\" valign=\"top\">Cell</th>\n",
       "      <th>2000</th>\n",
       "      <td>2</td>\n",
       "    </tr>\n",
       "    <tr>\n",
       "      <th>2002</th>\n",
       "      <td>2</td>\n",
       "    </tr>\n",
       "    <tr>\n",
       "      <th>2003</th>\n",
       "      <td>3</td>\n",
       "    </tr>\n",
       "    <tr>\n",
       "      <th>2004</th>\n",
       "      <td>1</td>\n",
       "    </tr>\n",
       "  </tbody>\n",
       "</table>\n",
       "</div>"
      ],
      "text/plain": [
       "                            retraction_count\n",
       "journal-iso year_published                  \n",
       "Cell        2000                           2\n",
       "            2002                           2\n",
       "            2003                           3\n",
       "            2004                           1"
      ]
     },
     "execution_count": 22,
     "metadata": {},
     "output_type": "execute_result"
    }
   ],
   "source": [
    "journal_ls = ['Nature', 'Science', 'Cell']\n",
    "summary_df[summary_df['journal-iso'].isin(journal_ls)].groupby(['journal-iso', \n",
    "                                                                'year_published']).agg({'retraction_count': \n",
    "                                                                                           'count'}).head(4)"
   ]
  },
  {
   "cell_type": "code",
   "execution_count": 23,
   "metadata": {
    "collapsed": false
   },
   "outputs": [
    {
     "data": {
      "text/html": [
       "<div>\n",
       "<table border=\"1\" class=\"dataframe\">\n",
       "  <thead>\n",
       "    <tr style=\"text-align: right;\">\n",
       "      <th></th>\n",
       "      <th>retraction_count</th>\n",
       "      <th>times-cited</th>\n",
       "      <th>usage-count-since-2013</th>\n",
       "    </tr>\n",
       "    <tr>\n",
       "      <th>year_published</th>\n",
       "      <th></th>\n",
       "      <th></th>\n",
       "      <th></th>\n",
       "    </tr>\n",
       "  </thead>\n",
       "  <tbody>\n",
       "    <tr>\n",
       "      <th>2012</th>\n",
       "      <td>384</td>\n",
       "      <td>39</td>\n",
       "      <td>3544</td>\n",
       "    </tr>\n",
       "    <tr>\n",
       "      <th>2010</th>\n",
       "      <td>373</td>\n",
       "      <td>90</td>\n",
       "      <td>3792</td>\n",
       "    </tr>\n",
       "    <tr>\n",
       "      <th>2014</th>\n",
       "      <td>346</td>\n",
       "      <td>23</td>\n",
       "      <td>2259</td>\n",
       "    </tr>\n",
       "    <tr>\n",
       "      <th>2009</th>\n",
       "      <td>344</td>\n",
       "      <td>136</td>\n",
       "      <td>3527</td>\n",
       "    </tr>\n",
       "  </tbody>\n",
       "</table>\n",
       "</div>"
      ],
      "text/plain": [
       "                retraction_count  times-cited  usage-count-since-2013\n",
       "year_published                                                       \n",
       "2012                         384           39                    3544\n",
       "2010                         373           90                    3792\n",
       "2014                         346           23                    2259\n",
       "2009                         344          136                    3527"
      ]
     },
     "execution_count": 23,
     "metadata": {},
     "output_type": "execute_result"
    }
   ],
   "source": [
    "summary_df.groupby(['year_published']).agg({'times-cited': sum, 'usage-count-since-2013': sum, \n",
    "                                            'retraction_count': 'count'}).sort_values(by='retraction_count', \n",
    "                                                                                      ascending=False).head(4)"
   ]
  },
  {
   "cell_type": "code",
   "execution_count": 24,
   "metadata": {
    "collapsed": false
   },
   "outputs": [
    {
     "data": {
      "text/html": [
       "<div>\n",
       "<table border=\"1\" class=\"dataframe\">\n",
       "  <thead>\n",
       "    <tr style=\"text-align: right;\">\n",
       "      <th></th>\n",
       "      <th>retraction_count</th>\n",
       "      <th>times-cited</th>\n",
       "      <th>usage-count-since-2013</th>\n",
       "    </tr>\n",
       "    <tr>\n",
       "      <th>year_retracted</th>\n",
       "      <th></th>\n",
       "      <th></th>\n",
       "      <th></th>\n",
       "    </tr>\n",
       "  </thead>\n",
       "  <tbody>\n",
       "    <tr>\n",
       "      <th>2015</th>\n",
       "      <td>613</td>\n",
       "      <td>38</td>\n",
       "      <td>3678</td>\n",
       "    </tr>\n",
       "    <tr>\n",
       "      <th>2013</th>\n",
       "      <td>516</td>\n",
       "      <td>77</td>\n",
       "      <td>5778</td>\n",
       "    </tr>\n",
       "    <tr>\n",
       "      <th>2016</th>\n",
       "      <td>511</td>\n",
       "      <td>17</td>\n",
       "      <td>1572</td>\n",
       "    </tr>\n",
       "    <tr>\n",
       "      <th>2014</th>\n",
       "      <td>446</td>\n",
       "      <td>68</td>\n",
       "      <td>3813</td>\n",
       "    </tr>\n",
       "  </tbody>\n",
       "</table>\n",
       "</div>"
      ],
      "text/plain": [
       "                retraction_count  times-cited  usage-count-since-2013\n",
       "year_retracted                                                       \n",
       "2015                         613           38                    3678\n",
       "2013                         516           77                    5778\n",
       "2016                         511           17                    1572\n",
       "2014                         446           68                    3813"
      ]
     },
     "execution_count": 24,
     "metadata": {},
     "output_type": "execute_result"
    }
   ],
   "source": [
    "summary_df.groupby(['year_retracted']).agg({'times-cited': sum, 'usage-count-since-2013': sum, \n",
    "                                            'retraction_count': 'count'}).sort_values(by='retraction_count', \n",
    "                                                                                      ascending=False).head(4)"
   ]
  },
  {
   "cell_type": "code",
   "execution_count": 25,
   "metadata": {
    "collapsed": true
   },
   "outputs": [],
   "source": [
    "def build_middle_authors_df(ret_df):\n",
    "    '''\n",
    "    '''\n",
    "    auth_dc = dict()\n",
    "    for iloc in range(len(ret_df)):\n",
    "        if ret_df['middle_authors'].iloc[iloc]=='None':\n",
    "            auth_ls = ['Nemo']\n",
    "        else:\n",
    "            auth_ls = ast.literal_eval(ret_df['middle_authors'].iloc[iloc])\n",
    "        #end\n",
    "        for auth in auth_ls:\n",
    "            if auth in auth_dc.keys():\n",
    "                auth_dc[auth] = auth_dc[auth] + 1\n",
    "            else:\n",
    "                auth_dc[auth] = 1\n",
    "            #end\n",
    "        #end\n",
    "    #end\n",
    "    middle_authors_dc = {'middle_author': auth_dc.keys(), 'retraction_count': auth_dc.values()}\n",
    "    middle_authors_df = pd.DataFrame(data=middle_authors_dc)\n",
    "    return middle_authors_df.sort_values(by='retraction_count', ascending=False).reset_index(drop=True)\n",
    "#end\n",
    "        "
   ]
  },
  {
   "cell_type": "code",
   "execution_count": 26,
   "metadata": {
    "collapsed": false
   },
   "outputs": [],
   "source": [
    "middle_authors_df = build_middle_authors_df(summary_df)"
   ]
  },
  {
   "cell_type": "code",
   "execution_count": 27,
   "metadata": {
    "collapsed": false
   },
   "outputs": [
    {
     "data": {
      "text/html": [
       "<div>\n",
       "<table border=\"1\" class=\"dataframe\">\n",
       "  <thead>\n",
       "    <tr style=\"text-align: right;\">\n",
       "      <th></th>\n",
       "      <th>middle_author</th>\n",
       "      <th>retraction_count</th>\n",
       "    </tr>\n",
       "  </thead>\n",
       "  <tbody>\n",
       "    <tr>\n",
       "      <th>0</th>\n",
       "      <td>Nemo</td>\n",
       "      <td>1504</td>\n",
       "    </tr>\n",
       "    <tr>\n",
       "      <th>1</th>\n",
       "      <td>Kloc, C</td>\n",
       "      <td>21</td>\n",
       "    </tr>\n",
       "    <tr>\n",
       "      <th>2</th>\n",
       "      <td>Tanaka, H.</td>\n",
       "      <td>20</td>\n",
       "    </tr>\n",
       "    <tr>\n",
       "      <th>3</th>\n",
       "      <td>Saitoh, Y.</td>\n",
       "      <td>14</td>\n",
       "    </tr>\n",
       "  </tbody>\n",
       "</table>\n",
       "</div>"
      ],
      "text/plain": [
       "  middle_author  retraction_count\n",
       "0          Nemo              1504\n",
       "1       Kloc, C                21\n",
       "2    Tanaka, H.                20\n",
       "3    Saitoh, Y.                14"
      ]
     },
     "execution_count": 27,
     "metadata": {},
     "output_type": "execute_result"
    }
   ],
   "source": [
    "middle_authors_df.head(4)"
   ]
  },
  {
   "cell_type": "code",
   "execution_count": 28,
   "metadata": {
    "collapsed": false
   },
   "outputs": [],
   "source": [
    "def n_authors_dist_df(ret_df):\n",
    "    '''\n",
    "    '''\n",
    "    n_auth_dc = dict()\n",
    "    for iloc in range(len(ret_df)):\n",
    "        n_auth = 1\n",
    "        if ret_df['last_author'].iloc[iloc]!='None':\n",
    "            n_auth = n_auth + 1\n",
    "        #end\n",
    "        if ret_df['middle_authors'].iloc[iloc]!='None':\n",
    "            n_auth = n_auth + len(ast.literal_eval(ret_df['middle_authors'].iloc[iloc]))\n",
    "        #end\n",
    "        if ret_df['first_author'].iloc[iloc]=='{[}Anonymous], ':\n",
    "            n_auth = 0\n",
    "        #end\n",
    "        if str(n_auth) in n_auth_dc.keys():\n",
    "            n_auth_dc[str(n_auth)] = n_auth_dc[str(n_auth)] + 1\n",
    "        else:\n",
    "            n_auth_dc[str(n_auth)] = 1\n",
    "        #end\n",
    "    #end\n",
    "    n_auth_dist_df = pd.DataFrame(data={'n_authors': n_auth_dc.keys(), 'n_retractions': n_auth_dc.values()})\n",
    "    n_auth_dist_df['n_authors'] = n_auth_dist_df['n_authors'].astype(int)\n",
    "    n_auth_dist_df['n_rel_retractions'] = 1.0*n_auth_dist_df['n_retractions']/n_auth_dist_df['n_retractions'].sum()\n",
    "    return n_auth_dist_df.sort_values(by='n_authors').reset_index(drop=True)\n",
    "#end"
   ]
  },
  {
   "cell_type": "code",
   "execution_count": 29,
   "metadata": {
    "collapsed": false
   },
   "outputs": [],
   "source": [
    "n_auth_dist_df = n_authors_dist_df(summary_df)"
   ]
  },
  {
   "cell_type": "code",
   "execution_count": 30,
   "metadata": {
    "collapsed": false
   },
   "outputs": [
    {
     "data": {
      "text/html": [
       "<div>\n",
       "<table border=\"1\" class=\"dataframe\">\n",
       "  <thead>\n",
       "    <tr style=\"text-align: right;\">\n",
       "      <th></th>\n",
       "      <th>n_authors</th>\n",
       "      <th>n_retractions</th>\n",
       "      <th>n_rel_retractions</th>\n",
       "    </tr>\n",
       "  </thead>\n",
       "  <tbody>\n",
       "    <tr>\n",
       "      <th>0</th>\n",
       "      <td>0</td>\n",
       "      <td>154</td>\n",
       "      <td>0.035273</td>\n",
       "    </tr>\n",
       "    <tr>\n",
       "      <th>1</th>\n",
       "      <td>1</td>\n",
       "      <td>717</td>\n",
       "      <td>0.164224</td>\n",
       "    </tr>\n",
       "    <tr>\n",
       "      <th>2</th>\n",
       "      <td>2</td>\n",
       "      <td>633</td>\n",
       "      <td>0.144984</td>\n",
       "    </tr>\n",
       "    <tr>\n",
       "      <th>3</th>\n",
       "      <td>3</td>\n",
       "      <td>657</td>\n",
       "      <td>0.150481</td>\n",
       "    </tr>\n",
       "    <tr>\n",
       "      <th>4</th>\n",
       "      <td>4</td>\n",
       "      <td>581</td>\n",
       "      <td>0.133074</td>\n",
       "    </tr>\n",
       "    <tr>\n",
       "      <th>5</th>\n",
       "      <td>5</td>\n",
       "      <td>425</td>\n",
       "      <td>0.097343</td>\n",
       "    </tr>\n",
       "    <tr>\n",
       "      <th>6</th>\n",
       "      <td>6</td>\n",
       "      <td>359</td>\n",
       "      <td>0.082226</td>\n",
       "    </tr>\n",
       "    <tr>\n",
       "      <th>7</th>\n",
       "      <td>7</td>\n",
       "      <td>250</td>\n",
       "      <td>0.057261</td>\n",
       "    </tr>\n",
       "  </tbody>\n",
       "</table>\n",
       "</div>"
      ],
      "text/plain": [
       "   n_authors  n_retractions  n_rel_retractions\n",
       "0          0            154           0.035273\n",
       "1          1            717           0.164224\n",
       "2          2            633           0.144984\n",
       "3          3            657           0.150481\n",
       "4          4            581           0.133074\n",
       "5          5            425           0.097343\n",
       "6          6            359           0.082226\n",
       "7          7            250           0.057261"
      ]
     },
     "execution_count": 30,
     "metadata": {},
     "output_type": "execute_result"
    }
   ],
   "source": [
    "n_auth_dist_df.sort_values(by='n_authors').head(8)"
   ]
  },
  {
   "cell_type": "code",
   "execution_count": 31,
   "metadata": {
    "collapsed": false
   },
   "outputs": [
    {
     "data": {
      "image/png": "[encoded data removed]",
      "text/plain": [
       "<matplotlib.figure.Figure at 0x7fc3c925fbd0>"
      ]
     },
     "metadata": {},
     "output_type": "display_data"
    }
   ],
   "source": [
    "sns.barplot(x=\"n_authors\", y=\"n_rel_retractions\", data=n_auth_dist_df[n_auth_dist_df['n_authors']!=0]);"
   ]
  },
  {
   "cell_type": "code",
   "execution_count": 32,
   "metadata": {
    "collapsed": false
   },
   "outputs": [
    {
     "data": {
      "image/png": "[encoded data removed]",
      "text/plain": [
       "<matplotlib.figure.Figure at 0x7fc3c9085550>"
      ]
     },
     "metadata": {},
     "output_type": "display_data"
    }
   ],
   "source": [
    "first_auth_df = summary_df.groupby(['first_author']).agg({'times-cited': sum, \n",
    "                                                          'usage-count-since-2013': sum, \n",
    "                                                          'retraction_count': 'count'}\n",
    "                                                         ).sort_values(by='retraction_count', \n",
    "                                                                      ascending=False).reset_index()\n",
    "first_auth_df = first_auth_df[first_auth_df['first_author']!='{[}Anonymous], ']\n",
    "sns.barplot(x='first_author', y=\"retraction_count\", data=first_auth_df.head(16));\n",
    "plt.xticks(rotation=90);"
   ]
  },
  {
   "cell_type": "code",
   "execution_count": 33,
   "metadata": {
    "collapsed": false
   },
   "outputs": [
    {
     "data": {
      "image/png": "[encoded data removed]",
      "text/plain": [
       "<matplotlib.figure.Figure at 0x7fc3c90a0610>"
      ]
     },
     "metadata": {},
     "output_type": "display_data"
    }
   ],
   "source": [
    "last_auth_df = summary_df.groupby(['last_author']).agg({'times-cited': sum, \n",
    "                                                        'usage-count-since-2013': sum, \n",
    "                                                        'retraction_count': 'count'}\n",
    "                                                       ).sort_values(by='retraction_count', \n",
    "                                                                     ascending=False).reset_index()\n",
    "last_auth_df = last_auth_df[last_auth_df['last_author']!='None']\n",
    "sns.barplot(x='last_author', y='retraction_count', data=last_auth_df.head(16));\n",
    "plt.xticks(rotation=90);"
   ]
  },
  {
   "cell_type": "code",
   "execution_count": 34,
   "metadata": {
    "collapsed": false
   },
   "outputs": [
    {
     "data": {
      "image/png": "[encoded data removed]",
      "text/plain": [
       "<matplotlib.figure.Figure at 0x7fc3c6af93d0>"
      ]
     },
     "metadata": {},
     "output_type": "display_data"
    }
   ],
   "source": [
    "sns.barplot(x=\"middle_author\", y=\"retraction_count\", \n",
    "            data=middle_authors_df[middle_authors_df['middle_author']!='Nemo'].head(16));\n",
    "plt.xticks(rotation=90);"
   ]
  },
  {
   "cell_type": "code",
   "execution_count": 35,
   "metadata": {
    "collapsed": false
   },
   "outputs": [
    {
     "data": {
      "text/plain": [
       "Index([                         u'ID',                 u'journal-iso',\n",
       "                             u'title',                   u'publisher',\n",
       "                       u'times-cited',  u'number-of-cited-references',\n",
       "            u'usage-count-since-2013', u'usage-count-(last-180-days)',\n",
       "         u'web-of-science-categories',                u'first_author',\n",
       "                       u'last_author',               u'second_author',\n",
       "                    u'middle_authors',             u'month_retracted',\n",
       "                    u'year_retracted',              u'year_published',\n",
       "                  u'retraction_count'],\n",
       "      dtype='object')"
      ]
     },
     "execution_count": 35,
     "metadata": {},
     "output_type": "execute_result"
    }
   ],
   "source": [
    "summary_df.columns"
   ]
  },
  {
   "cell_type": "code",
   "execution_count": 36,
   "metadata": {
    "collapsed": false
   },
   "outputs": [],
   "source": [
    "first_auth_set = list(set(list(summary_df['first_author'])))\n",
    "last_auth_set = list(set(list(summary_df['last_author'])))\n",
    "def flatten_list(nest_ls):\n",
    "    flat_list = []\n",
    "    for el in nest_ls:\n",
    "        if el is None or el=='Nemo':\n",
    "            pass\n",
    "        elif isinstance(el, list):\n",
    "            flat_list.extend(flatten_list(el))\n",
    "        else:\n",
    "            flat_list.append(el)\n",
    "        #end\n",
    "    #end\n",
    "    return flat_list\n",
    "#end\n",
    "middle_auth_set = list(set(flatten_list(summary_df['middle_authors'].apply(lambda x: ast.literal_eval(x)))))"
   ]
  },
  {
   "cell_type": "code",
   "execution_count": 37,
   "metadata": {
    "collapsed": false
   },
   "outputs": [],
   "source": [
    "def list_of_el_in_two_lists(list1, list2):\n",
    "    el_in_2_ls = []\n",
    "    for el in list1:\n",
    "        if el in list2:\n",
    "            el_in_2_ls.append(el)\n",
    "        #end\n",
    "    #end\n",
    "    return el_in_2_ls\n",
    "#end"
   ]
  },
  {
   "cell_type": "code",
   "execution_count": 38,
   "metadata": {
    "collapsed": false
   },
   "outputs": [],
   "source": [
    "first_or_last_ls = list_of_el_in_two_lists(first_auth_set, last_auth_set)\n",
    "fist_or_middle_ls = list_of_el_in_two_lists(first_auth_set, middle_auth_set)\n",
    "last_or_middle_ls = list_of_el_in_two_lists(last_auth_set, middle_auth_set)\n",
    "all_positions_ls = list_of_el_in_two_lists(first_or_last_ls, middle_auth_set)\n",
    "some_multiple_ls = list(set(first_or_last_ls + fist_or_middle_ls + last_or_middle_ls))\n",
    "all_authors_ls = list(set(first_auth_set + middle_auth_set + last_auth_set))"
   ]
  },
  {
   "cell_type": "code",
   "execution_count": 39,
   "metadata": {
    "collapsed": false
   },
   "outputs": [
    {
     "name": "stderr",
     "output_type": "stream",
     "text": [
      "/usr/local/lib/python2.7/dist-packages/ipykernel/__main__.py:3: SettingWithCopyWarning: \n",
      "A value is trying to be set on a copy of a slice from a DataFrame.\n",
      "Try using .loc[row_indexer,col_indexer] = value instead\n",
      "\n",
      "See the caveats in the documentation: http://pandas.pydata.org/pandas-docs/stable/indexing.html#indexing-view-versus-copy\n",
      "  app.launch_new_instance()\n"
     ]
    }
   ],
   "source": [
    "field_ls = ['ID', 'journal-iso', 'title', 'web-of-science-categories', 'first_author', 'last_author', 'middle_authors']\n",
    "unpacked_df = summary_df[field_ls]\n",
    "unpacked_df['middle_authors'] = unpacked_df['middle_authors'].apply(lambda x: ast.literal_eval(x) if x!='None' else list())"
   ]
  },
  {
   "cell_type": "code",
   "execution_count": 40,
   "metadata": {
    "collapsed": false
   },
   "outputs": [],
   "source": [
    "unpacked_summary_df = pd.concat([pd.DataFrame(dict(zip(unpacked_df.columns, \n",
    "                                                       unpacked_df.ix[i]))) for i in range(len(unpacked_df))])"
   ]
  },
  {
   "cell_type": "code",
   "execution_count": 41,
   "metadata": {
    "collapsed": false
   },
   "outputs": [],
   "source": [
    "author_summary_dc = {'author_name': [], 'title': [], 'ID': [], 'wos_categories': [], 'first_author': [], \n",
    "                     'last_author': [], 'middle_author': []}\n",
    "for author in all_authors_ls:\n",
    "    first_author_article_id_ls = list(summary_df['ID'][summary_df['first_author']==author])\n",
    "    if len(first_author_article_id_ls)>0:\n",
    "        for article_id in first_author_article_id_ls:\n",
    "            author_summary_dc['ID'].append(article_id)\n",
    "            author_summary_dc['author_name'].append(author)\n",
    "            author_summary_dc['first_author'].append(1)\n",
    "            author_summary_dc['last_author'].append(0)\n",
    "            author_summary_dc['middle_author'].append(0)\n",
    "            author_summary_dc['title'].append(summary_df['title'][summary_df['ID']==article_id])\n",
    "            author_summary_dc['wos_categories'].append(summary_df['web-of-science-categories'][summary_df['ID']==article_id])\n",
    "        #end\n",
    "    #end\n",
    "    last_author_article_id_ls = list(summary_df['ID'][summary_df['last_author']==author])\n",
    "    if len(last_author_article_id_ls)>0:\n",
    "        for article_id in last_author_article_id_ls:\n",
    "            author_summary_dc['ID'].append(article_id)\n",
    "            author_summary_dc['author_name'].append(author)\n",
    "            author_summary_dc['first_author'].append(0)\n",
    "            author_summary_dc['last_author'].append(1)\n",
    "            author_summary_dc['middle_author'].append(0)\n",
    "            author_summary_dc['title'].append(summary_df['title'][summary_df['ID']==article_id])\n",
    "            author_summary_dc['wos_categories'].append(summary_df['web-of-science-categories']\\\n",
    "                                                       [summary_df['ID']==article_id])\n",
    "        #end\n",
    "    #end\n",
    "    middle_author_article_id_ls = list(unpacked_summary_df['ID'][unpacked_summary_df['middle_authors']==author])\n",
    "    if len(middle_author_article_id_ls)>0:\n",
    "        for article_id in middle_author_article_id_ls:\n",
    "            author_summary_dc['ID'].append(article_id)\n",
    "            author_summary_dc['author_name'].append(author)\n",
    "            author_summary_dc['first_author'].append(0)\n",
    "            author_summary_dc['last_author'].append(0)\n",
    "            author_summary_dc['middle_author'].append(1)\n",
    "            author_summary_dc['title'].append(unpacked_summary_df['title'][unpacked_summary_df['ID']==article_id])\n",
    "            author_summary_dc['wos_categories'].append(unpacked_summary_df['web-of-science-categories']\\\n",
    "                                                       [unpacked_summary_df['ID']==article_id])\n",
    "        #end\n",
    "    #end\n",
    "#end\n",
    "            \n",
    "author_summary_df = pd.DataFrame(data=author_summary_dc)"
   ]
  },
  {
   "cell_type": "code",
   "execution_count": 42,
   "metadata": {
    "collapsed": false
   },
   "outputs": [
    {
     "data": {
      "text/html": [
       "<div>\n",
       "<table border=\"1\" class=\"dataframe\">\n",
       "  <thead>\n",
       "    <tr style=\"text-align: right;\">\n",
       "      <th></th>\n",
       "      <th>ID</th>\n",
       "      <th>author_name</th>\n",
       "      <th>first_author</th>\n",
       "      <th>last_author</th>\n",
       "      <th>middle_author</th>\n",
       "      <th>title</th>\n",
       "      <th>wos_categories</th>\n",
       "    </tr>\n",
       "  </thead>\n",
       "  <tbody>\n",
       "    <tr>\n",
       "      <th>0</th>\n",
       "      <td>ISI:000315707300037</td>\n",
       "      <td>Bose, Julie S.</td>\n",
       "      <td>1</td>\n",
       "      <td>0</td>\n",
       "      <td>0</td>\n",
       "      <td>1989    A Dihydrobenzofuran Lignan Induces Cel...</td>\n",
       "      <td>1989    Chemistry, Medicinal\n",
       "Name: web-of-scie...</td>\n",
       "    </tr>\n",
       "    <tr>\n",
       "      <th>1</th>\n",
       "      <td>ISI:000239914800070</td>\n",
       "      <td>Rockley, M. G.</td>\n",
       "      <td>0</td>\n",
       "      <td>0</td>\n",
       "      <td>1</td>\n",
       "      <td>0    Theoretical investigation of the dissocia...</td>\n",
       "      <td>0    Chemistry, Physical; Physics, Atomic, Mol...</td>\n",
       "    </tr>\n",
       "    <tr>\n",
       "      <th>2</th>\n",
       "      <td>ISI:000180655500059</td>\n",
       "      <td>Onoda, N</td>\n",
       "      <td>0</td>\n",
       "      <td>0</td>\n",
       "      <td>1</td>\n",
       "      <td>0    A novel bone marrow stroma-derived growth...</td>\n",
       "      <td>0    Immunology\n",
       "1    Immunology\n",
       "2    Immunolog...</td>\n",
       "    </tr>\n",
       "  </tbody>\n",
       "</table>\n",
       "</div>"
      ],
      "text/plain": [
       "                    ID     author_name  first_author  last_author  \\\n",
       "0  ISI:000315707300037  Bose, Julie S.             1            0   \n",
       "1  ISI:000239914800070  Rockley, M. G.             0            0   \n",
       "2  ISI:000180655500059        Onoda, N             0            0   \n",
       "\n",
       "   middle_author                                              title  \\\n",
       "0              0  1989    A Dihydrobenzofuran Lignan Induces Cel...   \n",
       "1              1  0    Theoretical investigation of the dissocia...   \n",
       "2              1  0    A novel bone marrow stroma-derived growth...   \n",
       "\n",
       "                                      wos_categories  \n",
       "0  1989    Chemistry, Medicinal\n",
       "Name: web-of-scie...  \n",
       "1  0    Chemistry, Physical; Physics, Atomic, Mol...  \n",
       "2  0    Immunology\n",
       "1    Immunology\n",
       "2    Immunolog...  "
      ]
     },
     "execution_count": 42,
     "metadata": {},
     "output_type": "execute_result"
    }
   ],
   "source": [
    "author_summary_df.head(3)"
   ]
  },
  {
   "cell_type": "code",
   "execution_count": 43,
   "metadata": {
    "collapsed": false
   },
   "outputs": [
    {
     "name": "stderr",
     "output_type": "stream",
     "text": [
      "/usr/local/lib/python2.7/dist-packages/ipykernel/__main__.py:8: UserWarning: Boolean Series key will be reindexed to match DataFrame index.\n"
     ]
    }
   ],
   "source": [
    "auth_df = author_summary_df.groupby(['author_name']).agg({'first_author': sum, \n",
    "                                                          'last_author': sum, \n",
    "                                                          'middle_author': sum}\n",
    "                                                         ).sort_values(by='first_author', \n",
    "                                                                       ascending=False).reset_index()\n",
    "\n",
    "auth_df['count'] = auth_df['first_author'] + auth_df['last_author'] + auth_df['middle_author']\n",
    "auth_df = auth_df[auth_df['author_name']!='{[}Anonymous], '][auth_df['author_name']!='None']\n",
    "auth_df = auth_df.sort_values(by='count', ascending=False).reset_index(drop=True)"
   ]
  },
  {
   "cell_type": "code",
   "execution_count": 44,
   "metadata": {
    "collapsed": true
   },
   "outputs": [],
   "source": [
    "auth_df['first_and_last_author'] = auth_df['first_author'] + auth_df['last_author']"
   ]
  },
  {
   "cell_type": "code",
   "execution_count": 45,
   "metadata": {
    "collapsed": false
   },
   "outputs": [
    {
     "name": "stderr",
     "output_type": "stream",
     "text": [
      "/usr/local/lib/python2.7/dist-packages/ipykernel/__main__.py:17: SettingWithCopyWarning: \n",
      "A value is trying to be set on a copy of a slice from a DataFrame\n",
      "\n",
      "See the caveats in the documentation: http://pandas.pydata.org/pandas-docs/stable/indexing.html#indexing-view-versus-copy\n",
      "/usr/local/lib/python2.7/dist-packages/ipykernel/__main__.py:18: SettingWithCopyWarning: \n",
      "A value is trying to be set on a copy of a slice from a DataFrame\n",
      "\n",
      "See the caveats in the documentation: http://pandas.pydata.org/pandas-docs/stable/indexing.html#indexing-view-versus-copy\n",
      "/usr/local/lib/python2.7/dist-packages/ipykernel/__main__.py:19: SettingWithCopyWarning: \n",
      "A value is trying to be set on a copy of a slice from a DataFrame\n",
      "\n",
      "See the caveats in the documentation: http://pandas.pydata.org/pandas-docs/stable/indexing.html#indexing-view-versus-copy\n",
      "/usr/local/lib/python2.7/dist-packages/ipykernel/__main__.py:20: SettingWithCopyWarning: \n",
      "A value is trying to be set on a copy of a slice from a DataFrame\n",
      "\n",
      "See the caveats in the documentation: http://pandas.pydata.org/pandas-docs/stable/indexing.html#indexing-view-versus-copy\n",
      "/usr/local/lib/python2.7/dist-packages/ipykernel/__main__.py:21: SettingWithCopyWarning: \n",
      "A value is trying to be set on a copy of a slice from a DataFrame\n",
      "\n",
      "See the caveats in the documentation: http://pandas.pydata.org/pandas-docs/stable/indexing.html#indexing-view-versus-copy\n",
      "/usr/local/lib/python2.7/dist-packages/ipykernel/__main__.py:22: UserWarning: Boolean Series key will be reindexed to match DataFrame index.\n",
      "/usr/local/lib/python2.7/dist-packages/ipykernel/__main__.py:32: SettingWithCopyWarning: \n",
      "A value is trying to be set on a copy of a slice from a DataFrame\n",
      "\n",
      "See the caveats in the documentation: http://pandas.pydata.org/pandas-docs/stable/indexing.html#indexing-view-versus-copy\n"
     ]
    }
   ],
   "source": [
    "same_author_dc = {'Fujii, Yoshitaka': 'Fujii, Y.',\n",
    "                  'Toyooka, Hidenori': 'Toyooka, H.',\n",
    "                  'Tanaka, Hiroyoshi': 'Tanaka, H.',\n",
    "                  'Saitoh, Yuhji': 'Saitoh, Y.',\n",
    "                  'Stapel, Diederik A.': 'Stapel, D. A.',\n",
    "                  'Stapel, D.': 'Stapel, D. A.',\n",
    "                  'Mori, Naoki': 'Mori, N.',\n",
    "                  'Kato, Shigeaki': 'Kato, S.',\n",
    "                  'Aggarwal, Bharat B.': 'Aggarwal, B. B.',\n",
    "                  'Boldt, Joachim': 'Boldt, J.',\n",
    "                  'Hunton, James E.': 'Hunton, J. E.',\n",
    "                  'Tomita, Mariko': 'Tomita, M.',\n",
    "                  'Potti, Anil': 'Potti, A.'\n",
    "                  }\n",
    "adj_auth_df = auth_df.copy(deep=True)\n",
    "for old_name, new_name in zip(same_author_dc.keys(), same_author_dc.values()):\n",
    "    adj_auth_df['first_author'][auth_df['author_name']==new_name] = int(adj_auth_df['first_author'][auth_df['author_name']==new_name]) + \\\n",
    "                                                                    int(adj_auth_df['first_author'][auth_df['author_name']==old_name])\n",
    "    adj_auth_df['last_author'][auth_df['author_name']==new_name] = int(adj_auth_df['last_author'][auth_df['author_name']==new_name]) + \\\n",
    "                                                                   int(adj_auth_df['last_author'][auth_df['author_name']==old_name])\n",
    "    adj_auth_df['middle_author'][auth_df['author_name']==new_name] = int(adj_auth_df['middle_author'][auth_df['author_name']==new_name]) + \\\n",
    "                                                                     int(adj_auth_df['middle_author'][auth_df['author_name']==old_name])\n",
    "    adj_auth_df['count'][auth_df['author_name']==new_name] = int(adj_auth_df['count'][auth_df['author_name']==new_name]) + \\\n",
    "                                                             int(adj_auth_df['count'][auth_df['author_name']==old_name])\n",
    "    adj_auth_df['first_and_last_author'][auth_df['author_name']==new_name] = int(adj_auth_df['first_and_last_author'][auth_df['author_name']==new_name]) + \\\n",
    "                                                                             int(adj_auth_df['first_and_last_author'][auth_df['author_name']==old_name])\n",
    "    adj_auth_df = adj_auth_df[auth_df['author_name']!=old_name]\n",
    "#end\n",
    "rename_author_dc = {'Khang, Gilson': 'Khang, G.',\n",
    "                    'Zaman, Khalid': 'Zaman, K.',\n",
    "                    'Rhee, John M.': 'Rhee, J. M.',\n",
    "                    'Kitagawa, Hirochika': 'Kitagawa, H.',\n",
    "                    'Lichtenthaler, Ulrich': 'Lichtenthaler, U.',\n",
    "                    'Pease, Larry R.': 'Pease, L. R.',\n",
    "                    }\n",
    "for old_name, new_name in zip(rename_author_dc.keys(), rename_author_dc.values()):\n",
    "    adj_auth_df['author_name'][auth_df['author_name']==old_name] = new_name\n",
    "#end\n",
    "adj_auth_df = adj_auth_df.sort_values(by='count', ascending=False).reset_index(drop=True)"
   ]
  },
  {
   "cell_type": "code",
   "execution_count": 49,
   "metadata": {
    "collapsed": false
   },
   "outputs": [
    {
     "data": {
      "text/plain": [
       "1736"
      ]
     },
     "execution_count": 49,
     "metadata": {},
     "output_type": "execute_result"
    }
   ],
   "source": [
    "len(adj_auth_df[adj_auth_df['count']>1])"
   ]
  },
  {
   "cell_type": "code",
   "execution_count": 46,
   "metadata": {
    "collapsed": false
   },
   "outputs": [
    {
     "data": {
      "text/html": [
       "<div>\n",
       "<table border=\"1\" class=\"dataframe\">\n",
       "  <thead>\n",
       "    <tr style=\"text-align: right;\">\n",
       "      <th></th>\n",
       "      <th>author_name</th>\n",
       "      <th>first_author</th>\n",
       "      <th>last_author</th>\n",
       "      <th>middle_author</th>\n",
       "      <th>count</th>\n",
       "      <th>first_and_last_author</th>\n",
       "    </tr>\n",
       "  </thead>\n",
       "  <tbody>\n",
       "    <tr>\n",
       "      <th>0</th>\n",
       "      <td>Fujii, Y.</td>\n",
       "      <td>82</td>\n",
       "      <td>3</td>\n",
       "      <td>5</td>\n",
       "      <td>90</td>\n",
       "      <td>85</td>\n",
       "    </tr>\n",
       "    <tr>\n",
       "      <th>1</th>\n",
       "      <td>Toyooka, H.</td>\n",
       "      <td>0</td>\n",
       "      <td>43</td>\n",
       "      <td>10</td>\n",
       "      <td>53</td>\n",
       "      <td>43</td>\n",
       "    </tr>\n",
       "    <tr>\n",
       "      <th>2</th>\n",
       "      <td>Stapel, D. A.</td>\n",
       "      <td>14</td>\n",
       "      <td>25</td>\n",
       "      <td>8</td>\n",
       "      <td>47</td>\n",
       "      <td>39</td>\n",
       "    </tr>\n",
       "    <tr>\n",
       "      <th>3</th>\n",
       "      <td>Boldt, J.</td>\n",
       "      <td>15</td>\n",
       "      <td>11</td>\n",
       "      <td>13</td>\n",
       "      <td>39</td>\n",
       "      <td>26</td>\n",
       "    </tr>\n",
       "    <tr>\n",
       "      <th>4</th>\n",
       "      <td>Tanaka, H.</td>\n",
       "      <td>0</td>\n",
       "      <td>8</td>\n",
       "      <td>31</td>\n",
       "      <td>39</td>\n",
       "      <td>8</td>\n",
       "    </tr>\n",
       "    <tr>\n",
       "      <th>5</th>\n",
       "      <td>Schon, JH</td>\n",
       "      <td>32</td>\n",
       "      <td>0</td>\n",
       "      <td>1</td>\n",
       "      <td>33</td>\n",
       "      <td>32</td>\n",
       "    </tr>\n",
       "    <tr>\n",
       "      <th>6</th>\n",
       "      <td>Mori, N.</td>\n",
       "      <td>5</td>\n",
       "      <td>23</td>\n",
       "      <td>2</td>\n",
       "      <td>30</td>\n",
       "      <td>28</td>\n",
       "    </tr>\n",
       "    <tr>\n",
       "      <th>7</th>\n",
       "      <td>Chen, C-Y</td>\n",
       "      <td>12</td>\n",
       "      <td>6</td>\n",
       "      <td>8</td>\n",
       "      <td>26</td>\n",
       "      <td>18</td>\n",
       "    </tr>\n",
       "  </tbody>\n",
       "</table>\n",
       "</div>"
      ],
      "text/plain": [
       "     author_name  first_author  last_author  middle_author  count  \\\n",
       "0      Fujii, Y.            82            3              5     90   \n",
       "1    Toyooka, H.             0           43             10     53   \n",
       "2  Stapel, D. A.            14           25              8     47   \n",
       "3      Boldt, J.            15           11             13     39   \n",
       "4     Tanaka, H.             0            8             31     39   \n",
       "5      Schon, JH            32            0              1     33   \n",
       "6       Mori, N.             5           23              2     30   \n",
       "7      Chen, C-Y            12            6              8     26   \n",
       "\n",
       "   first_and_last_author  \n",
       "0                     85  \n",
       "1                     43  \n",
       "2                     39  \n",
       "3                     26  \n",
       "4                      8  \n",
       "5                     32  \n",
       "6                     28  \n",
       "7                     18  "
      ]
     },
     "execution_count": 46,
     "metadata": {},
     "output_type": "execute_result"
    }
   ],
   "source": [
    "adj_auth_df.head(8)"
   ]
  },
  {
   "cell_type": "code",
   "execution_count": 47,
   "metadata": {
    "collapsed": false
   },
   "outputs": [
    {
     "data": {
      "image/png": "[encoded data removed]",
      "text/plain": [
       "<matplotlib.figure.Figure at 0x7fc3c688ba50>"
      ]
     },
     "metadata": {},
     "output_type": "display_data"
    }
   ],
   "source": [
    "plt.figure(figsize=(12,6))\n",
    "middle_author_bar = sns.barplot(x='author_name', y='count', data=adj_auth_df.head(30), color='green');\n",
    "last_author_bar = sns.barplot(x='author_name', y='first_and_last_author', data=adj_auth_df.head(30), color='red');\n",
    "first_author_bar = sns.barplot(x='author_name', y='first_author', data=adj_auth_df.head(30), color='blue');\n",
    "first_auth = plt.Rectangle((0,0),1,1,fc='blue', edgecolor = 'none')\n",
    "last_auth = plt.Rectangle((0,0),1,1,fc='red', edgecolor = 'none')\n",
    "middle_auth = plt.Rectangle((0,0),1,1,fc='green', edgecolor = 'none')\n",
    "l = plt.legend([first_auth, last_auth, middle_auth], ['First Author', 'Last Author', 'Middle Author'], \n",
    "               loc=1, ncol = 2, prop={'size':16})\n",
    "l.draw_frame(False)\n",
    "plt.ylim([0,100])\n",
    "plt.xlabel('Author Name')\n",
    "plt.ylabel('Retractions Count')\n",
    "plt.xticks(rotation=90);"
   ]
  },
  {
   "cell_type": "code",
   "execution_count": null,
   "metadata": {
    "collapsed": true
   },
   "outputs": [],
   "source": []
  },
  {
   "cell_type": "code",
   "execution_count": null,
   "metadata": {
    "collapsed": true
   },
   "outputs": [],
   "source": []
  },
  {
   "cell_type": "code",
   "execution_count": null,
   "metadata": {
    "collapsed": true
   },
   "outputs": [],
   "source": []
  },
  {
   "cell_type": "code",
   "execution_count": 108,
   "metadata": {
    "collapsed": false
   },
   "outputs": [
    {
     "data": {
      "text/html": [
       "<div>\n",
       "<table border=\"1\" class=\"dataframe\">\n",
       "  <thead>\n",
       "    <tr style=\"text-align: right;\">\n",
       "      <th></th>\n",
       "      <th>ID</th>\n",
       "      <th>journal-iso</th>\n",
       "      <th>title</th>\n",
       "      <th>publisher</th>\n",
       "      <th>times-cited</th>\n",
       "      <th>number-of-cited-references</th>\n",
       "      <th>usage-count-since-2013</th>\n",
       "      <th>usage-count-(last-180-days)</th>\n",
       "      <th>web-of-science-categories</th>\n",
       "      <th>first_author</th>\n",
       "      <th>last_author</th>\n",
       "      <th>second_author</th>\n",
       "      <th>middle_authors</th>\n",
       "      <th>month_retracted</th>\n",
       "      <th>year_retracted</th>\n",
       "      <th>year_published</th>\n",
       "      <th>retraction_count</th>\n",
       "    </tr>\n",
       "  </thead>\n",
       "  <tbody>\n",
       "    <tr>\n",
       "      <th>3042</th>\n",
       "      <td>ISI:000278200000046</td>\n",
       "      <td>Faseb J.</td>\n",
       "      <td>Induction of a gene expression program in dend...</td>\n",
       "      <td>FEDERATION AMER SOC EXP BIOL</td>\n",
       "      <td>0</td>\n",
       "      <td>17</td>\n",
       "      <td>8</td>\n",
       "      <td>2</td>\n",
       "      <td>Biochemistry \\&amp; Molecular Biology; Biology; Ce...</td>\n",
       "      <td>Pease, Larry R.</td>\n",
       "      <td>None</td>\n",
       "      <td>None</td>\n",
       "      <td>None</td>\n",
       "      <td>JUN</td>\n",
       "      <td>2010</td>\n",
       "      <td>2006</td>\n",
       "      <td>1</td>\n",
       "    </tr>\n",
       "  </tbody>\n",
       "</table>\n",
       "</div>"
      ],
      "text/plain": [
       "                       ID journal-iso  \\\n",
       "3042  ISI:000278200000046    Faseb J.   \n",
       "\n",
       "                                                  title  \\\n",
       "3042  Induction of a gene expression program in dend...   \n",
       "\n",
       "                         publisher  times-cited  number-of-cited-references  \\\n",
       "3042  FEDERATION AMER SOC EXP BIOL            0                          17   \n",
       "\n",
       "      usage-count-since-2013  usage-count-(last-180-days)  \\\n",
       "3042                       8                            2   \n",
       "\n",
       "                              web-of-science-categories     first_author  \\\n",
       "3042  Biochemistry \\& Molecular Biology; Biology; Ce...  Pease, Larry R.   \n",
       "\n",
       "     last_author second_author middle_authors month_retracted  year_retracted  \\\n",
       "3042        None          None           None             JUN            2010   \n",
       "\n",
       "      year_published  retraction_count  \n",
       "3042            2006                 1  "
      ]
     },
     "execution_count": 108,
     "metadata": {},
     "output_type": "execute_result"
    }
   ],
   "source": [
    "summary_df[summary_df['first_author'].str.contains('Pease')]"
   ]
  },
  {
   "cell_type": "code",
   "execution_count": 116,
   "metadata": {
    "collapsed": false
   },
   "outputs": [
    {
     "data": {
      "text/plain": [
       "1825    Prevention of PONV with granisetron, droperido...\n",
       "1827    Prevention of PONV with granisetron, droperido...\n",
       "1831    Prevention of postoperative nausea and vomitin...\n",
       "1867    Prevention of post-operative nausea and vomiti...\n",
       "1931    Prevention of postoperative vomiting with gran...\n",
       "2068    Prevention of nausea and vomiting during termi...\n",
       "2110    Prevention of postoperative nausea and vomitin...\n",
       "Name: title, dtype: object"
      ]
     },
     "execution_count": 116,
     "metadata": {},
     "output_type": "execute_result"
    }
   ],
   "source": [
    "summary_df['title'][summary_df['first_author'].str.contains('Fujii')][summary_df['title'].str.contains('Prevention')]"
   ]
  },
  {
   "cell_type": "code",
   "execution_count": 118,
   "metadata": {
    "collapsed": false
   },
   "outputs": [
    {
     "data": {
      "text/plain": [
       "'Prevention of PONV with granisetron, droperidol and metoclopramide in female patients with history of motion sickness '"
      ]
     },
     "execution_count": 118,
     "metadata": {},
     "output_type": "execute_result"
    }
   ],
   "source": [
    "summary_df['title'].iloc[1827]"
   ]
  },
  {
   "cell_type": "code",
   "execution_count": null,
   "metadata": {
    "collapsed": true
   },
   "outputs": [],
   "source": []
  }
 ],
 "metadata": {
  "kernelspec": {
   "display_name": "Python 2",
   "language": "python",
   "name": "python2"
  },
  "language_info": {
   "codemirror_mode": {
    "name": "ipython",
    "version": 2
   },
   "file_extension": ".py",
   "mimetype": "text/x-python",
   "name": "python",
   "nbconvert_exporter": "python",
   "pygments_lexer": "ipython2",
   "version": "2.7.6"
  }
 },
 "nbformat": 4,
 "nbformat_minor": 1
}
